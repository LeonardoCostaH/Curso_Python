{
 "cells": [
  {
   "cell_type": "markdown",
   "metadata": {},
   "source": [
    "Funções são trechos de código usados para replicar determinada ação ao longo do seu código. Elas podem receber valores para parâmetros (argumentos) e retornar um valor específico.\n",
    "Por padrão, funções python retornam None."
   ]
  },
  {
   "cell_type": "markdown",
   "metadata": {},
   "source": [
    "- Argumentos nomeados e não nomeados em funções Python\n",
    "- Argumento nomeado tem nome com sinal de igual\n",
    "- Argumento não nomeado recebe apenas o argumento (valor)"
   ]
  },
  {
   "cell_type": "code",
   "execution_count": 1,
   "metadata": {},
   "outputs": [
    {
     "name": "stdout",
     "output_type": "stream",
     "text": [
      "x=1 y=2 z=3 | x + y + z =  6\n",
      "x=1 y=2 z=5 | x + y + z =  8\n",
      "1-2-3\n"
     ]
    }
   ],
   "source": [
    "def soma(x, y, z):\n",
    "    # Definição\n",
    "    print(f'{x=} y={y} {z=}', '|', 'x + y + z = ', x + y + z)\n",
    "\n",
    "\n",
    "soma(1, 2, 3)\n",
    "soma(1, y=2, z=5)\n",
    "\n",
    "print(1, 2, 3, sep='-')"
   ]
  },
  {
   "cell_type": "code",
   "execution_count": 4,
   "metadata": {},
   "outputs": [
    {
     "data": {
      "text/plain": [
       "tuple"
      ]
     },
     "execution_count": 4,
     "metadata": {},
     "output_type": "execute_result"
    }
   ],
   "source": [
    "def teste(*args):\n",
    "    return type(args)\n",
    "\n",
    "teste(1,2,3,4,5)"
   ]
  },
  {
   "cell_type": "markdown",
   "metadata": {},
   "source": [
    "*Escopo de funções em Python*\n",
    "\n",
    "- Escopo significa o local onde aquele código pode atingir.\n",
    "- Existe o escopo global e local.\n",
    "- O escopo global é o escopo onde todo o código é alcançavel.\n",
    "- O escopo local é o escopo onde apenas nomes do mesmo local\n",
    "- podem ser alcançados."
   ]
  },
  {
   "cell_type": "code",
   "execution_count": 5,
   "metadata": {},
   "outputs": [
    {
     "name": "stdout",
     "output_type": "stream",
     "text": [
      "1\n",
      "11 2\n",
      "11\n",
      "11\n"
     ]
    }
   ],
   "source": [
    "x = 1\n",
    "\n",
    "\n",
    "def escopo():\n",
    "    global x\n",
    "    x = 10\n",
    "\n",
    "    def outra_funcao():\n",
    "        global x\n",
    "        x = 11\n",
    "        y = 2\n",
    "        print(x, y)\n",
    "\n",
    "    outra_funcao()\n",
    "    print(x)\n",
    "\n",
    "\n",
    "print(x)\n",
    "escopo()\n",
    "print(x)"
   ]
  },
  {
   "cell_type": "markdown",
   "metadata": {},
   "source": [
    "Retorno de valores das funções (return)"
   ]
  },
  {
   "cell_type": "code",
   "execution_count": 6,
   "metadata": {},
   "outputs": [
    {
     "name": "stdout",
     "output_type": "stream",
     "text": [
      "4\n",
      "6\n",
      "[10, 20]\n"
     ]
    }
   ],
   "source": [
    "def soma(x, y):\n",
    "    if x > 10:\n",
    "        return [10, 20]\n",
    "    return x + y\n",
    "\n",
    "\n",
    "# variavel = soma(1, 2)\n",
    "# variavel = int('1')\n",
    "soma1 = soma(2, 2)\n",
    "soma2 = soma(3, 3)\n",
    "print(soma1)\n",
    "print(soma2)\n",
    "print(soma(11, 55))"
   ]
  },
  {
   "cell_type": "markdown",
   "metadata": {},
   "source": [
    "args - Argumentos não nomeados\n",
    "- *args (empacotamento e desempacotamento)"
   ]
  },
  {
   "cell_type": "code",
   "execution_count": 7,
   "metadata": {},
   "outputs": [
    {
     "name": "stdout",
     "output_type": "stream",
     "text": [
      "116\n",
      "116\n"
     ]
    }
   ],
   "source": [
    "# Lembre-te de desempacotamento\n",
    "# x, y, *resto = 1, 2, 3, 4\n",
    "# print(x, y, resto)\n",
    "\n",
    "\n",
    "# def soma(x, y):\n",
    "#     return x + y\n",
    "\n",
    "def soma(*args):\n",
    "    total = 0\n",
    "    for numero in args:\n",
    "        total += numero\n",
    "    return total\n",
    "\n",
    "\n",
    "soma_1_2_3 = soma(1, 2, 3)\n",
    "# print(soma_1_2_3)\n",
    "\n",
    "soma_4_5_6 = soma(4, 5, 6)\n",
    "# print(soma_4_5_6)\n",
    "\n",
    "numeros = 1, 2, 3, 4, 5, 6, 7, 78, 10\n",
    "outra_soma = soma(*numeros)\n",
    "print(outra_soma)\n",
    "\n",
    "print(sum(numeros))\n",
    "# print(*numeros)"
   ]
  }
 ],
 "metadata": {
  "kernelspec": {
   "display_name": "Python 3",
   "language": "python",
   "name": "python3"
  },
  "language_info": {
   "codemirror_mode": {
    "name": "ipython",
    "version": 3
   },
   "file_extension": ".py",
   "mimetype": "text/x-python",
   "name": "python",
   "nbconvert_exporter": "python",
   "pygments_lexer": "ipython3",
   "version": "3.12.2"
  }
 },
 "nbformat": 4,
 "nbformat_minor": 2
}
