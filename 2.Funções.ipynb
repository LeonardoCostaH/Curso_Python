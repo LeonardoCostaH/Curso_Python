{
 "cells": [
  {
   "cell_type": "markdown",
   "metadata": {},
   "source": [
    "Funções são trechos de código usados para replicar determinada ação ao longo do seu código. Elas podem receber valores para parâmetros (argumentos) e retornar um valor específico.\n",
    "Por padrão, funções python retornam None."
   ]
  },
  {
   "cell_type": "markdown",
   "metadata": {},
   "source": [
    "- Argumentos nomeados e não nomeados em funções Python\n",
    "- Argumento nomeado tem nome com sinal de igual\n",
    "- Argumento não nomeado recebe apenas o argumento (valor)"
   ]
  },
  {
   "cell_type": "code",
   "execution_count": 1,
   "metadata": {},
   "outputs": [
    {
     "name": "stdout",
     "output_type": "stream",
     "text": [
      "x=1 y=2 z=3 | x + y + z =  6\n",
      "x=1 y=2 z=5 | x + y + z =  8\n",
      "1-2-3\n"
     ]
    }
   ],
   "source": [
    "def soma(x, y, z):\n",
    "    # Definição\n",
    "    print(f'{x=} y={y} {z=}', '|', 'x + y + z = ', x + y + z)\n",
    "\n",
    "\n",
    "soma(1, 2, 3)\n",
    "soma(1, y=2, z=5)\n",
    "\n",
    "print(1, 2, 3, sep='-')"
   ]
  },
  {
   "cell_type": "code",
   "execution_count": 4,
   "metadata": {},
   "outputs": [
    {
     "data": {
      "text/plain": [
       "tuple"
      ]
     },
     "execution_count": 4,
     "metadata": {},
     "output_type": "execute_result"
    }
   ],
   "source": [
    "def teste(*args):\n",
    "    return type(args)\n",
    "\n",
    "teste(1,2,3,4,5)"
   ]
  },
  {
   "cell_type": "markdown",
   "metadata": {},
   "source": [
    "*Escopo de funções em Python*\n",
    "\n",
    "- Escopo significa o local onde aquele código pode atingir.\n",
    "- Existe o escopo global e local.\n",
    "- O escopo global é o escopo onde todo o código é alcançavel.\n",
    "- O escopo local é o escopo onde apenas nomes do mesmo local\n",
    "- podem ser alcançados."
   ]
  },
  {
   "cell_type": "code",
   "execution_count": 5,
   "metadata": {},
   "outputs": [
    {
     "name": "stdout",
     "output_type": "stream",
     "text": [
      "1\n",
      "11 2\n",
      "11\n",
      "11\n"
     ]
    }
   ],
   "source": [
    "x = 1\n",
    "\n",
    "\n",
    "def escopo():\n",
    "    global x\n",
    "    x = 10\n",
    "\n",
    "    def outra_funcao():\n",
    "        global x\n",
    "        x = 11\n",
    "        y = 2\n",
    "        print(x, y)\n",
    "\n",
    "    outra_funcao()\n",
    "    print(x)\n",
    "\n",
    "\n",
    "print(x)\n",
    "escopo()\n",
    "print(x)"
   ]
  },
  {
   "cell_type": "markdown",
   "metadata": {},
   "source": [
    "Retorno de valores das funções (return)"
   ]
  },
  {
   "cell_type": "code",
   "execution_count": 6,
   "metadata": {},
   "outputs": [
    {
     "name": "stdout",
     "output_type": "stream",
     "text": [
      "4\n",
      "6\n",
      "[10, 20]\n"
     ]
    }
   ],
   "source": [
    "def soma(x, y):\n",
    "    if x > 10:\n",
    "        return [10, 20]\n",
    "    return x + y\n",
    "\n",
    "\n",
    "# variavel = soma(1, 2)\n",
    "# variavel = int('1')\n",
    "soma1 = soma(2, 2)\n",
    "soma2 = soma(3, 3)\n",
    "print(soma1)\n",
    "print(soma2)\n",
    "print(soma(11, 55))"
   ]
  },
  {
   "cell_type": "markdown",
   "metadata": {},
   "source": [
    "args - Argumentos não nomeados\n",
    "- *args (empacotamento e desempacotamento)"
   ]
  },
  {
   "cell_type": "code",
   "execution_count": 7,
   "metadata": {},
   "outputs": [
    {
     "name": "stdout",
     "output_type": "stream",
     "text": [
      "116\n",
      "116\n"
     ]
    }
   ],
   "source": [
    "# Lembre-te de desempacotamento\n",
    "# x, y, *resto = 1, 2, 3, 4\n",
    "# print(x, y, resto)\n",
    "\n",
    "\n",
    "# def soma(x, y):\n",
    "#     return x + y\n",
    "\n",
    "def soma(*args):\n",
    "    total = 0\n",
    "    for numero in args:\n",
    "        total += numero\n",
    "    return total\n",
    "\n",
    "\n",
    "soma_1_2_3 = soma(1, 2, 3)\n",
    "# print(soma_1_2_3)\n",
    "\n",
    "soma_4_5_6 = soma(4, 5, 6)\n",
    "# print(soma_4_5_6)\n",
    "\n",
    "numeros = 1, 2, 3, 4, 5, 6, 7, 78, 10\n",
    "outra_soma = soma(*numeros)\n",
    "print(outra_soma)\n",
    "\n",
    "print(sum(numeros))\n",
    "# print(*numeros)"
   ]
  },
  {
   "cell_type": "markdown",
   "metadata": {},
   "source": [
    "Exercícios com funções\n",
    "\n",
    "- Crie uma função que multiplica todos os argumentos não nomeados recebidos\n",
    "- Retorne o total para uma variável e mostre o valor da variável."
   ]
  },
  {
   "cell_type": "code",
   "execution_count": 13,
   "metadata": {},
   "outputs": [
    {
     "data": {
      "text/plain": [
       "8"
      ]
     },
     "execution_count": 13,
     "metadata": {},
     "output_type": "execute_result"
    }
   ],
   "source": [
    "def mult_args(*args):\n",
    "    contador = 1\n",
    "    for i in args:\n",
    "        contador *= i\n",
    "    return contador\n",
    "\n",
    "mult_args(2,2,2)"
   ]
  },
  {
   "cell_type": "markdown",
   "metadata": {},
   "source": [
    "- Crie uma função que fala se um número é par ou ímpar.\n",
    "- Retorne se o número é par ou ímpar."
   ]
  },
  {
   "cell_type": "code",
   "execution_count": 20,
   "metadata": {},
   "outputs": [
    {
     "data": {
      "text/plain": [
       "'2 é par'"
      ]
     },
     "execution_count": 20,
     "metadata": {},
     "output_type": "execute_result"
    }
   ],
   "source": [
    "def par_impar(x):\n",
    "    if x % 2 == 0:\n",
    "        return f\"{x} é par\"\n",
    "    else:\n",
    "        return f\"{x} é ímpar\"\n",
    "    \n",
    "par_impar(2)"
   ]
  },
  {
   "cell_type": "code",
   "execution_count": 21,
   "metadata": {},
   "outputs": [
    {
     "data": {
      "text/plain": [
       "'3 é ímpar'"
      ]
     },
     "execution_count": 21,
     "metadata": {},
     "output_type": "execute_result"
    }
   ],
   "source": [
    "par_impar(3)"
   ]
  },
  {
   "cell_type": "markdown",
   "metadata": {},
   "source": [
    "Higher Order Functions - Funções de primeira classe"
   ]
  },
  {
   "cell_type": "code",
   "execution_count": 22,
   "metadata": {},
   "outputs": [
    {
     "name": "stdout",
     "output_type": "stream",
     "text": [
      "Bom dia, Luiz!\n",
      "Boa noite, Maria!\n"
     ]
    }
   ],
   "source": [
    "def saudacao(msg, nome):\n",
    "    return f'{msg}, {nome}!'\n",
    "\n",
    "\n",
    "def executa(funcao, *args):\n",
    "    return funcao(*args)\n",
    "\n",
    "\n",
    "print(\n",
    "    executa(saudacao, 'Bom dia', 'Luiz')\n",
    ")\n",
    "print(\n",
    "    executa(saudacao, 'Boa noite', 'Maria')\n",
    ")"
   ]
  },
  {
   "cell_type": "markdown",
   "metadata": {},
   "source": [
    "*Termos técnicos: Higher Order Functions e First-Class Functions*\n",
    "\n",
    "Academicamente, os termos Higher Order Functions e First-Class Functions têm significados diferentes.\n",
    "\n",
    "    - Higher Order Functions - Funções que podem receber e/ou retornar outras funções\n",
    "\n",
    "    - First-Class Functions - Funções que são tratadas como outros tipos de dados comuns (strings, inteiros, etc...)\n",
    "\n",
    "Não faria muita diferença no seu código, mas penso que deveria lhe informar isso.\n",
    "\n",
    "Observação: esses termos podem ser diferentes e ainda refletir o mesmo significado."
   ]
  },
  {
   "cell_type": "markdown",
   "metadata": {},
   "source": [
    "# Closure e funções que retornam outras funções"
   ]
  },
  {
   "cell_type": "code",
   "execution_count": 23,
   "metadata": {},
   "outputs": [
    {
     "name": "stdout",
     "output_type": "stream",
     "text": [
      "Bom dia, Maria!\n",
      "Boa noite, Maria!\n",
      "Bom dia, Joana!\n",
      "Boa noite, Joana!\n",
      "Bom dia, Luiz!\n",
      "Boa noite, Luiz!\n"
     ]
    }
   ],
   "source": [
    "def criar_saudacao(saudacao):\n",
    "    def saudar(nome):\n",
    "        return f'{saudacao}, {nome}!'\n",
    "    return saudar\n",
    "\n",
    "\n",
    "falar_bom_dia = criar_saudacao('Bom dia')\n",
    "falar_boa_noite = criar_saudacao('Boa noite')\n",
    "\n",
    "for nome in ['Maria', 'Joana', 'Luiz']:\n",
    "    print(falar_bom_dia(nome))\n",
    "    print(falar_boa_noite(nome))"
   ]
  },
  {
   "cell_type": "markdown",
   "metadata": {},
   "source": [
    "# Exercício\n",
    "\n",
    "Crie funções que duplicam, triplicam e quadruplicam o número recebido como parâmetro."
   ]
  },
  {
   "cell_type": "code",
   "execution_count": 28,
   "metadata": {},
   "outputs": [
    {
     "name": "stdout",
     "output_type": "stream",
     "text": [
      "10\n",
      "15\n",
      "20\n"
     ]
    }
   ],
   "source": [
    "def multiplicador(multiplicador):\n",
    "    def multiplicar(numero):\n",
    "        return numero * multiplicador\n",
    "    return multiplicar\n",
    "\n",
    "duplicar = multiplicador(2)\n",
    "triplicar = multiplicador(3)\n",
    "quadriplicar = multiplicador(4)\n",
    "\n",
    "print(duplicar(5))\n",
    "print(triplicar(5))\n",
    "print(quadriplicar(5))"
   ]
  }
 ],
 "metadata": {
  "kernelspec": {
   "display_name": "Python 3",
   "language": "python",
   "name": "python3"
  },
  "language_info": {
   "codemirror_mode": {
    "name": "ipython",
    "version": 3
   },
   "file_extension": ".py",
   "mimetype": "text/x-python",
   "name": "python",
   "nbconvert_exporter": "python",
   "pygments_lexer": "ipython3",
   "version": "3.12.2"
  }
 },
 "nbformat": 4,
 "nbformat_minor": 2
}
