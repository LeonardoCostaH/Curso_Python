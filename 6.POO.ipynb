{
 "cells": [
  {
   "cell_type": "markdown",
   "metadata": {},
   "source": [
    "# Classes"
   ]
  },
  {
   "cell_type": "markdown",
   "metadata": {},
   "source": [
    "- class - Classes são moldes para criar novos objetos\n",
    "- As classes geram novos objetos (instâncias) que podem ter seus próprios atributos e métodos.\n",
    "- Os objetos gerados pela classe podem usar seus dados internos para realizar várias ações.\n",
    "- Por convenção, usamos PascalCase para nomes de classes.\n",
    "- string = 'Luiz'  # str\n",
    "- print(string.upper())\n",
    "- print(isinstance(string, str))"
   ]
  },
  {
   "cell_type": "code",
   "execution_count": 4,
   "metadata": {},
   "outputs": [
    {
     "name": "stdout",
     "output_type": "stream",
     "text": [
      "Luiz\n",
      "Otávio\n",
      "Maria\n",
      "Joana\n"
     ]
    }
   ],
   "source": [
    "class Pessoa:\n",
    "    ...\n",
    "\n",
    "\n",
    "# p1 = Pessoa('Luiz', 'Otávio')\n",
    "p1.nome = 'Luiz'\n",
    "p1.sobrenome = 'Otávio'\n",
    "\n",
    "# p2 = Pessoa('Maria', 'Joana')\n",
    "p2.nome = 'Maria'\n",
    "p2.sobrenome = 'Joana'\n",
    "\n",
    "print(p1.nome)\n",
    "print(p1.sobrenome)\n",
    "\n",
    "print(p2.nome)\n",
    "print(p2.sobrenome)"
   ]
  },
  {
   "cell_type": "markdown",
   "metadata": {},
   "source": [
    "# Introdução ao método __init__ (inicializador de atributos)"
   ]
  },
  {
   "cell_type": "code",
   "execution_count": 1,
   "metadata": {},
   "outputs": [
    {
     "name": "stdout",
     "output_type": "stream",
     "text": [
      "Luiz\n",
      "Otávio\n",
      "Maria\n",
      "Joana\n"
     ]
    }
   ],
   "source": [
    "class Pessoa:\n",
    "    def __init__(self, nome, sobrenome):\n",
    "        self.nome = nome\n",
    "        self.sobrenome = sobrenome\n",
    "\n",
    "\n",
    "p1 = Pessoa('Luiz', 'Otávio')\n",
    "# p1.nome = 'Luiz'\n",
    "# p1.sobrenome = 'Otávio'\n",
    "\n",
    "p2 = Pessoa('Maria', 'Joana')\n",
    "# p2.nome = 'Maria'\n",
    "# p2.sobrenome = 'Joana'\n",
    "\n",
    "print(p1.nome)\n",
    "print(p1.sobrenome)\n",
    "\n",
    "print(p2.nome)\n",
    "print(p2.sobrenome)"
   ]
  },
  {
   "cell_type": "code",
   "execution_count": 6,
   "metadata": {},
   "outputs": [
    {
     "name": "stdout",
     "output_type": "stream",
     "text": [
      "peugeot\n",
      "208\n",
      "2019\n",
      "O carro é um peugeot 208 do ano 2019\n"
     ]
    }
   ],
   "source": [
    "class Car:\n",
    "    def __init__(self,marca, modelo, ano):\n",
    "        self.marca = marca\n",
    "        self.modelo = modelo\n",
    "        self.ano = ano\n",
    "\n",
    "carro1 = Car(\"peugeot\", 208, 2019)\n",
    "\n",
    "print(carro1.marca)\n",
    "print(carro1.modelo)\n",
    "print(carro1.ano)\n",
    "\n",
    "print(f'O carro é um {carro1.marca} {carro1.modelo} do ano {carro1.ano}')"
   ]
  },
  {
   "cell_type": "markdown",
   "metadata": {},
   "source": [
    "# Métodos em instâncias de classes Python\n",
    "\n",
    "Hard coded - É algo que foi escrito diretamente no código"
   ]
  },
  {
   "cell_type": "code",
   "execution_count": null,
   "metadata": {},
   "outputs": [],
   "source": [
    "class Carro:\n",
    "    def __init__(self, nome):\n",
    "        self.nome = nome\n",
    "\n",
    "    def acelerar(self):\n",
    "        print(f'{self.nome} está acelerando...')\n",
    "\n",
    "\n",
    "string = 'Luiz'\n",
    "print(string.upper())\n",
    "\n",
    "fusca = Carro('Fusca')\n",
    "print(fusca.nome)\n",
    "fusca.acelerar()\n",
    "\n",
    "celta = Carro(nome='Celta')\n",
    "print(celta.nome)\n",
    "celta.acelerar()"
   ]
  }
 ],
 "metadata": {
  "kernelspec": {
   "display_name": "Python 3",
   "language": "python",
   "name": "python3"
  },
  "language_info": {
   "codemirror_mode": {
    "name": "ipython",
    "version": 3
   },
   "file_extension": ".py",
   "mimetype": "text/x-python",
   "name": "python",
   "nbconvert_exporter": "python",
   "pygments_lexer": "ipython3",
   "version": "3.12.2"
  }
 },
 "nbformat": 4,
 "nbformat_minor": 2
}
