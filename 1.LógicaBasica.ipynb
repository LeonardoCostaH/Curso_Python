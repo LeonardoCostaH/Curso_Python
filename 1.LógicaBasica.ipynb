{
 "cells": [
  {
   "cell_type": "markdown",
   "metadata": {},
   "source": [
    "Função print"
   ]
  },
  {
   "cell_type": "code",
   "execution_count": 5,
   "metadata": {},
   "outputs": [
    {
     "name": "stdout",
     "output_type": "stream",
     "text": [
      "12341011#56-78\n",
      "9-10\n",
      "6\n",
      "7\n"
     ]
    }
   ],
   "source": [
    "# \\r\\n -> CRLF\n",
    "# \\n -> LF\n",
    "print(12, 34, 1011, sep=\"\", end='#')\n",
    "print(56, 78, sep='-', end='\\n')\n",
    "print(9, 10, sep='-', end='\\r\\n')\n",
    "print(6,7,sep=\"\\n\")"
   ]
  },
  {
   "cell_type": "markdown",
   "metadata": {},
   "source": [
    "Tipos de dados - STRING"
   ]
  },
  {
   "cell_type": "code",
   "execution_count": 6,
   "metadata": {},
   "outputs": [
    {
     "name": "stdout",
     "output_type": "stream",
     "text": [
      "1234\n",
      "Luiz Otávio\n",
      "1 Luiz \"Otávio\"\n",
      "Luiz Otávio\n",
      "2 Luiz 'Otávio'\n",
      "Luiz \"Otávio\"\n",
      "Luiz \\\"Otávio\\\"\n"
     ]
    }
   ],
   "source": [
    "\"\"\"\n",
    "DocString\n",
    "Python = Linguagem de programação\n",
    "Tipo de tipagem = Dinâmica / Forte\n",
    "str -> string -> texto\n",
    "Strings são textos que estão dentro de aspas\n",
    "\"\"\"\n",
    "print(1234)\n",
    "\n",
    "# Aspas simples\n",
    "print('Luiz Otávio')\n",
    "print(1, 'Luiz \"Otávio\"')\n",
    "\n",
    "# Aspas duplas\n",
    "print(\"Luiz Otávio\")\n",
    "print(2, \"Luiz 'Otávio'\")\n",
    "\n",
    "# Escape\n",
    "print(\"Luiz \\\"Otávio\\\"\")\n",
    "\n",
    "# r\n",
    "print(r\"Luiz \\\"Otávio\\\"\")"
   ]
  },
  {
   "cell_type": "markdown",
   "metadata": {},
   "source": [
    "Tipos de dados - INT e FLOAT"
   ]
  },
  {
   "cell_type": "code",
   "execution_count": 7,
   "metadata": {},
   "outputs": [
    {
     "name": "stdout",
     "output_type": "stream",
     "text": [
      "<class 'str'>\n",
      "<class 'int'>\n",
      "<class 'float'> <class 'float'> <class 'float'>\n"
     ]
    }
   ],
   "source": [
    "# Tipos int e float\n",
    "# int -> Número inteiro\n",
    "# O tipo int representa qualquer número\n",
    "# positivo ou negativo. int sem sinal é considerado\n",
    "# positivo.\n",
    "# print(11) # int\n",
    "# print(-11) # int\n",
    "# print(0)\n",
    "\n",
    "# float -> Número com ponto flutuante\n",
    "# O tipo float representa qualquer número\n",
    "# positivo ou negativo com ponto flutuante.\n",
    "# float sem sinal é considerado positivo.\n",
    "# print(1.1, 10.11)\n",
    "# print(0.0, -1.5)\n",
    "\n",
    "# A função type mostra o tipo que o Python\n",
    "# inferiu ao valor.\n",
    "print(type('Otávio'))\n",
    "print(type(0))\n",
    "print(type(1.1), type(-1.1), type(0.0))"
   ]
  },
  {
   "cell_type": "markdown",
   "metadata": {},
   "source": [
    "Tipos de dados - BOOL"
   ]
  },
  {
   "cell_type": "code",
   "execution_count": 8,
   "metadata": {},
   "outputs": [
    {
     "name": "stdout",
     "output_type": "stream",
     "text": [
      "True\n",
      "False\n",
      "<class 'bool'>\n",
      "<class 'bool'>\n",
      "<class 'bool'>\n",
      "<class 'bool'>\n"
     ]
    }
   ],
   "source": [
    "# Tipo de dado bool (boolean)\n",
    "# Ao questionar algo em um programa,\n",
    "# só existem duas respostas possíveis:\n",
    "# sim (True) ou não (False).\n",
    "# Existem vários operadores para \"questionar\".\n",
    "# Dentre eles o ==, que é um operador lógico que\n",
    "# questiona se um valor é igual a outro\n",
    "print(10 == 10)  # Sim => True (Verdadeiro)\n",
    "print(10 == 11)  # Não => False (Falso)\n",
    "print(type(True))\n",
    "print(type(False))\n",
    "print(type(10 == 10))\n",
    "print(type(10 == 11))"
   ]
  },
  {
   "cell_type": "markdown",
   "metadata": {},
   "source": [
    "Conversão de tipos"
   ]
  },
  {
   "cell_type": "code",
   "execution_count": 9,
   "metadata": {},
   "outputs": [
    {
     "name": "stdout",
     "output_type": "stream",
     "text": [
      "1 <class 'int'>\n",
      "<class 'float'>\n",
      "True\n",
      "11b\n"
     ]
    }
   ],
   "source": [
    "# conversão de tipos, coerção\n",
    "# type convertion, typecasting, coercion\n",
    "# é o ato de converter um tipo em outro\n",
    "#  tipos imutáveis e primitivos:\n",
    "# str, int, float, bool\n",
    "print(int('1'), type(int('1')))\n",
    "print(type(float('1') + 1))\n",
    "print(bool(' '))\n",
    "print(str(11) + 'b')"
   ]
  },
  {
   "cell_type": "markdown",
   "metadata": {},
   "source": [
    "Variáveis"
   ]
  },
  {
   "cell_type": "code",
   "execution_count": 13,
   "metadata": {},
   "outputs": [
    {
     "name": "stdout",
     "output_type": "stream",
     "text": [
      "Nome: Leonardo Idade: 32\n",
      "É maior? True\n"
     ]
    }
   ],
   "source": [
    "# Variáveis são usadas para salvar algo na memória do computador.\n",
    "# PEP8: inicie variáveis com letras minúsculas, pode usar\n",
    "# números e underline _.\n",
    "# O sinal de = é o operador de atribuição. Ele é usado para\n",
    "# atribuir um valor a um nome (variável).\n",
    "# Uso: nome_variavel = expressão\n",
    "\n",
    "# nome_completo = 'Leonardo Augusto Costa Hermes'\n",
    "# soma_dois_mais_dois = 2 + 2\n",
    "# int_um = bool('1')\n",
    "# print(int_um, type(int_um))\n",
    "# print(nome_completo, soma_dois_mais_dois)\n",
    "\n",
    "nome = 'Leonardo'\n",
    "idade = 32\n",
    "maior_de_idade = idade >= 18\n",
    "print('Nome:', nome, 'Idade:', idade)\n",
    "print('É maior?', maior_de_idade)"
   ]
  }
 ],
 "metadata": {
  "kernelspec": {
   "display_name": "Python 3",
   "language": "python",
   "name": "python3"
  },
  "language_info": {
   "codemirror_mode": {
    "name": "ipython",
    "version": 3
   },
   "file_extension": ".py",
   "mimetype": "text/x-python",
   "name": "python",
   "nbconvert_exporter": "python",
   "pygments_lexer": "ipython3",
   "version": "3.12.2"
  }
 },
 "nbformat": 4,
 "nbformat_minor": 2
}
